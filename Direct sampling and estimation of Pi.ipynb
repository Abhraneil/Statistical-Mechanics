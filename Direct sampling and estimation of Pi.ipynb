{
 "cells": [
  {
   "cell_type": "code",
   "execution_count": 31,
   "id": "56663de2",
   "metadata": {},
   "outputs": [
    {
     "name": "stdout",
     "output_type": "stream",
     "text": [
      "3.14131084\n"
     ]
    }
   ],
   "source": [
    "import random\n",
    "\n",
    "\n",
    "n_hits = 0\n",
    "n_trials = 100000000\n",
    "\n",
    "for i in range(n_trials):\n",
    "    x,y = random.uniform(-1.0,1.0) , random.uniform(-1.0,1.0)\n",
    "    if x**2 + y**2 < 1:\n",
    "        n_hits += 1\n",
    "print(4*n_hits/float(n_trials))      \n",
    "        \n",
    "        \n",
    "    "
   ]
  },
  {
   "cell_type": "code",
   "execution_count": null,
   "id": "58601feb",
   "metadata": {},
   "outputs": [],
   "source": []
  },
  {
   "cell_type": "code",
   "execution_count": null,
   "id": "8ba06325",
   "metadata": {},
   "outputs": [],
   "source": []
  }
 ],
 "metadata": {
  "kernelspec": {
   "display_name": "Python 3 (ipykernel)",
   "language": "python",
   "name": "python3"
  },
  "language_info": {
   "codemirror_mode": {
    "name": "ipython",
    "version": 3
   },
   "file_extension": ".py",
   "mimetype": "text/x-python",
   "name": "python",
   "nbconvert_exporter": "python",
   "pygments_lexer": "ipython3",
   "version": "3.9.7"
  }
 },
 "nbformat": 4,
 "nbformat_minor": 5
}
